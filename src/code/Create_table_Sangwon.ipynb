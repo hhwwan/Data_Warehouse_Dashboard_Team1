{
 "cells": [
  {
   "cell_type": "code",
   "execution_count": null,
   "metadata": {},
   "outputs": [],
   "source": [
    "%%sql\n",
    "\n",
    "CREATE TABLE raw_data.daily_boxoffice (\n",
    "    voting_date DATE,\n",
    "    ranking INTEGER,\n",
    "    title VARCHAR(150),\n",
    "    released_date DATE,\n",
    "    sales INT8,\n",
    "    sales_market_portion FLOAT8,\n",
    "    sales_comp_yesterday INT8,\n",
    "    sales_fluctuation_rate FLOAT8,\n",
    "    total_sales INT8,\n",
    "    audience_num INT8,\n",
    "    audience_num_delta INT8,\n",
    "    audience_num_fluctuatation_rate FLOAT8,\n",
    "    total_audience INT8,\n",
    "    screen_num INT8,\n",
    "    total_played_time INT8,\n",
    "    country_of_origin VARCHAR(150),\n",
    "    country VARCHAR(225),\n",
    "    production_comp_name VARCHAR(225),\n",
    "    distributor_name VARCHAR(225),\n",
    "    film_ratings VARCHAR(225),\n",
    "    genre TEXT,\n",
    "    director TEXT,\n",
    "    performers VARCHAR(10000)\n",
    ");\n",
    "COPY raw_data.daily_boxoffice \n",
    "FROM 's3://de-test-bucket-lsw/csv_files/combined_daily_data.csv'\n",
    "CREDENTIALS 'aws_iam_role=YOUR_IAM_ROLE'\n",
    "delimiter ',' dateformat 'auto' timeformat 'auto' IGNOREHEADER 1 removequotes;"
   ]
  },
  {
   "cell_type": "code",
   "execution_count": null,
   "metadata": {},
   "outputs": [],
   "source": [
    "%%sql\n",
    "\n",
    "\n",
    "CREATE TABLE raw_data.genre_data (\n",
    "    voting_date DATE,\n",
    "    genre TEXT,\n",
    "    audience_num INT8\n",
    ");\n",
    "\n",
    "COPY raw_data.genre_data \n",
    "FROM 's3://de-test-bucket-lsw/csv_files/daily_genre_data.csv'\n",
    "CREDENTIALS 'aws_iam_role=YOUR_IAM_ROLE'\n",
    "delimiter ',' dateformat 'auto' timeformat 'auto' IGNOREHEADER 1;"
   ]
  }
 ],
 "metadata": {
  "language_info": {
   "name": "python"
  }
 },
 "nbformat": 4,
 "nbformat_minor": 2
}
