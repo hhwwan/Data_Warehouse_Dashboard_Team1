{
 "cells": [
  {
   "cell_type": "code",
   "execution_count": null,
   "metadata": {},
   "outputs": [],
   "source": [
    "%load_ext sql"
   ]
  },
  {
   "cell_type": "code",
   "execution_count": null,
   "metadata": {},
   "outputs": [],
   "source": [
    "!pip install SQLAlchemy==1.4.47 # 버전 다운그레이드\n",
    "!pip install ipython-sql==0.4.1"
   ]
  },
  {
   "cell_type": "code",
   "execution_count": null,
   "metadata": {},
   "outputs": [],
   "source": [
    "%sql postgresql://*****"
   ]
  },
  {
   "cell_type": "code",
   "execution_count": null,
   "metadata": {},
   "outputs": [],
   "source": [
    "%%sql\n",
    "\n",
    "DROP TABLE IF EXISTS kobis_movie_chain;\n",
    "\n",
    "CREATE TABLE kobis_movie_chain (\n",
    "    Date DATE,\n",
    "    Movie VARCHAR(255),\n",
    "    Chain VARCHAR(50),\n",
    "    Screenings INT,\n",
    "    day_of_week VARCHAR(20),\n",
    "    Screen_Share FLOAT\n",
    ");"
   ]
  },
  {
   "cell_type": "code",
   "execution_count": null,
   "metadata": {},
   "outputs": [],
   "source": [
    "%%sql\n",
    "\n",
    "COPY kobis_movie_chain\n",
    "FROM 's3://*****/kobis_movie_chain.csv'\n",
    "credentials 'aws_iam_role=*****'\n",
    "delimiter ','IGNOREHEADER 1 removequotes;"
   ]
  },
  {
   "cell_type": "code",
   "execution_count": null,
   "metadata": {},
   "outputs": [],
   "source": [
    "%%sql \n",
    "# 사용자 확인\n",
    "SELECT current_user;\n",
    "# admin"
   ]
  },
  {
   "cell_type": "code",
   "execution_count": null,
   "metadata": {},
   "outputs": [],
   "source": [
    "%%sql\n",
    "# 오류 확인\n",
    "SELECT *\n",
    "FROM sys_load_error_detail\n",
    "ORDER BY start_time DESC\n",
    "LIMIT 10;"
   ]
  },
  {
   "cell_type": "code",
   "execution_count": null,
   "metadata": {},
   "outputs": [],
   "source": [
    "%%sql\n",
    "# 데이터 적재 됐는지 확인\n",
    "SELECT * FROM kobis_movie_chain LIMIT 10;"
   ]
  },
  {
   "cell_type": "code",
   "execution_count": null,
   "metadata": {},
   "outputs": [],
   "source": []
  }
 ],
 "metadata": {
  "language_info": {
   "name": "python"
  }
 },
 "nbformat": 4,
 "nbformat_minor": 2
}
